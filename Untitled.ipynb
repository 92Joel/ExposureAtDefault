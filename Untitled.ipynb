{
 "cells": [
  {
   "cell_type": "code",
   "execution_count": 85,
   "metadata": {
    "collapsed": true
   },
   "outputs": [],
   "source": [
    "import pandas as pd\n",
    "import numpy as np\n",
    "import matplotlib.pyplot as plt\n",
    "import json\n",
    "import os\n",
    "import requests\n",
    "import urllib2\n",
    "import jsonschema\n",
    "import datetime as dt\n",
    "from enum import Enum"
   ]
  },
  {
   "cell_type": "code",
   "execution_count": 86,
   "metadata": {
    "collapsed": true
   },
   "outputs": [],
   "source": [
    "with open('sample.json') as f:\n",
    "    j_obj = json.load(f)"
   ]
  },
  {
   "cell_type": "code",
   "execution_count": 87,
   "metadata": {
    "collapsed": true
   },
   "outputs": [],
   "source": [
    "df = pd.DataFrame.from_records(j_obj['data'])"
   ]
  },
  {
   "cell_type": "code",
   "execution_count": 88,
   "metadata": {
    "collapsed": true
   },
   "outputs": [],
   "source": [
    "url = 'https://raw.githubusercontent.com/SuadeLabs/fire/blob/master/v1-dev/derivative.json'"
   ]
  },
  {
   "cell_type": "code",
   "execution_count": 89,
   "metadata": {
    "collapsed": true
   },
   "outputs": [],
   "source": [
    "url = 'https://raw.githubusercontent.com/SuadeLabs/fire/master/v1-dev/derivative.json'"
   ]
  },
  {
   "cell_type": "code",
   "execution_count": 90,
   "metadata": {
    "collapsed": true
   },
   "outputs": [],
   "source": [
    "json_request = requests.get(url)\n",
    "schema = json_request.json()"
   ]
  },
  {
   "cell_type": "code",
   "execution_count": 91,
   "metadata": {
    "collapsed": true
   },
   "outputs": [],
   "source": [
    "class ProcessJson:\n",
    "    def __init__(self, file_path, schema_url):\n",
    "        \"\"\"\n",
    "        Instantiates the class\n",
    "        \n",
    "        Arguments:\n",
    "        file_path -- Must be a valid \n",
    "        \"\"\"\n",
    "        \n",
    "        with open(file_path) as f:\n",
    "            self.data = json.load(f)\n",
    "\n",
    "        schema_request = requests.get(schema_url)\n",
    "        self.schema = schema_request.json()\n",
    "            \n",
    "    def validator(self):\n",
    "        \"\"\" Validates each line of the JSON 'data' array \"\"\"\n",
    "        for item in self.data['data']:\n",
    "            try:\n",
    "                jsonschema.validate(item, self.schema)\n",
    "            except Exception as e:\n",
    "                raise e\n",
    "                \n",
    "    def to_df(self):\n",
    "        self.validator()\n",
    "        df = pd.DataFrame.from_records(self.data['data'])\n",
    "        self.data = 2\n",
    "        return df"
   ]
  },
  {
   "cell_type": "code",
   "execution_count": 92,
   "metadata": {},
   "outputs": [],
   "source": [
    "netting_set = ProcessJson('sample.json', url).to_df()"
   ]
  },
  {
   "cell_type": "code",
   "execution_count": 93,
   "metadata": {},
   "outputs": [
    {
     "data": {
      "text/plain": [
       "-100"
      ]
     },
     "execution_count": 93,
     "metadata": {},
     "output_type": "execute_result"
    }
   ],
   "source": [
    "np.sum(netting_set['mtm_dirty'].values)"
   ]
  },
  {
   "cell_type": "code",
   "execution_count": 94,
   "metadata": {
    "collapsed": true
   },
   "outputs": [],
   "source": [
    "start = pd.to_datetime(netting_set['start_date'].values)\n",
    "end = pd.to_datetime(netting_set['end_date'].values)\n",
    "current = pd.to_datetime(netting_set['date'].values)"
   ]
  },
  {
   "cell_type": "code",
   "execution_count": 95,
   "metadata": {},
   "outputs": [
    {
     "data": {
      "text/plain": [
       "Float64Index([2.01779603012, 2.01779603012], dtype='float64')"
      ]
     },
     "execution_count": 95,
     "metadata": {},
     "output_type": "execute_result"
    }
   ],
   "source": [
    "(end - start).days / 365.25"
   ]
  },
  {
   "cell_type": "code",
   "execution_count": 96,
   "metadata": {
    "collapsed": true
   },
   "outputs": [],
   "source": [
    "start = pd.to_datetime(netting_set['start_date'].values)\n",
    "end = pd.to_datetime(netting_set['end_date'].values)\n",
    "current = pd.to_datetime(netting_set['date'].values)\n",
    "\n",
    "E = (end - start).days / 365.25\n",
    "S = (start - current).days / 365.25\n",
    "\n",
    "sup_duration = (np.exp(-0.05 * S) - np.exp(-0.05 * E)) / 0.05\n",
    "\n",
    "adj_notional = netting_set['notional_amount'] * sup_duration\n",
    "netting_set['adj_notional'] = adj_notional"
   ]
  },
  {
   "cell_type": "code",
   "execution_count": 66,
   "metadata": {
    "collapsed": true
   },
   "outputs": [],
   "source": [
    "def supervisory_delta(x):\n",
    "#     if netting_set['type'] == 'vanilla_swap':\n",
    "#         if netting_set['receive_type'] == 'floating':\n",
    "#             return 1\n",
    "#         if netting_set['receive_type'] == 'fixed':\n",
    "#             return -1\n",
    "    if x == 'fixed':\n",
    "        return -1\n",
    "    if x == 'floating':\n",
    "        return 1"
   ]
  },
  {
   "cell_type": "code",
   "execution_count": 84,
   "metadata": {},
   "outputs": [
    {
     "name": "stdout",
     "output_type": "stream",
     "text": [
      "Series([], dtype: float64)\n",
      "1    20354.471888\n",
      "dtype: float64\n",
      "Series([], dtype: float64)\n",
      "Series([], dtype: float64)\n",
      "Series([], dtype: float64)\n",
      "0    19385.211322\n",
      "dtype: float64\n"
     ]
    }
   ],
   "source": [
    "for g in netting_set.groupby('currency_code'):\n",
    "    df = g[1]\n",
    "    for time_bucket in df.groupby(pd.cut(df[\"maturity\"], np.array([0, 1, 5, np.inf]))):\n",
    "        print time_bucket[1].sup_delta * time_bucket[1].adj_notional\n",
    "        "
   ]
  },
  {
   "cell_type": "code",
   "execution_count": 45,
   "metadata": {
    "collapsed": true
   },
   "outputs": [],
   "source": [
    "netting_set.loc[0, 'maturity'] = 10\n",
    "netting_set.loc[1, 'maturity'] = 2"
   ]
  },
  {
   "cell_type": "code",
   "execution_count": 61,
   "metadata": {},
   "outputs": [
    {
     "name": "stdout",
     "output_type": "stream",
     "text": [
      "(0.0, 1.0] 0\n",
      "(1.0, 5.0] 2.0\n",
      "(5.0, inf] 10.0\n"
     ]
    }
   ],
   "source": [
    "tmp = np.array()\n",
    "for g in netting_set.groupby(pd.cut(netting_set[\"maturity\"], np.array([0, 1, 5, np.inf]))):\n",
    "    print g[0], g[1].maturity.sum()\n",
    "    tmp += g[1].maturity.values"
   ]
  },
  {
   "cell_type": "code",
   "execution_count": 64,
   "metadata": {},
   "outputs": [
    {
     "data": {
      "text/plain": [
       "array([ 10.])"
      ]
     },
     "execution_count": 64,
     "metadata": {},
     "output_type": "execute_result"
    }
   ],
   "source": [
    "g[1].maturity.values"
   ]
  },
  {
   "cell_type": "code",
   "execution_count": 71,
   "metadata": {
    "collapsed": true
   },
   "outputs": [],
   "source": [
    "netting_set['sup_delta'] = netting_set['receive_type'].apply(lambda x: supervisory_delta(x))"
   ]
  },
  {
   "cell_type": "code",
   "execution_count": 73,
   "metadata": {},
   "outputs": [
    {
     "data": {
      "text/html": [
       "<div>\n",
       "<style>\n",
       "    .dataframe thead tr:only-child th {\n",
       "        text-align: right;\n",
       "    }\n",
       "\n",
       "    .dataframe thead th {\n",
       "        text-align: left;\n",
       "    }\n",
       "\n",
       "    .dataframe tbody tr th {\n",
       "        vertical-align: top;\n",
       "    }\n",
       "</style>\n",
       "<table border=\"1\" class=\"dataframe\">\n",
       "  <thead>\n",
       "    <tr style=\"text-align: right;\">\n",
       "      <th></th>\n",
       "      <th>asset_class</th>\n",
       "      <th>currency_code</th>\n",
       "      <th>date</th>\n",
       "      <th>end_date</th>\n",
       "      <th>id</th>\n",
       "      <th>mtm_dirty</th>\n",
       "      <th>notional_amount</th>\n",
       "      <th>payment_type</th>\n",
       "      <th>receive_type</th>\n",
       "      <th>start_date</th>\n",
       "      <th>trade_date</th>\n",
       "      <th>type</th>\n",
       "      <th>value_date</th>\n",
       "      <th>maturity</th>\n",
       "      <th>sup_delta</th>\n",
       "    </tr>\n",
       "  </thead>\n",
       "  <tbody>\n",
       "    <tr>\n",
       "      <th>0</th>\n",
       "      <td>ir</td>\n",
       "      <td>USD</td>\n",
       "      <td>2017-01-17T00:00:00Z</td>\n",
       "      <td>2019-01-17T00:00:00Z</td>\n",
       "      <td>swap_1</td>\n",
       "      <td>-1500</td>\n",
       "      <td>10000</td>\n",
       "      <td>fixed</td>\n",
       "      <td>floating</td>\n",
       "      <td>2017-01-10T00:00:00Z</td>\n",
       "      <td>2017-01-10T00:00:00Z</td>\n",
       "      <td>vanilla_swap</td>\n",
       "      <td>2017-01-16T00:00:00Z</td>\n",
       "      <td>10.0</td>\n",
       "      <td>1</td>\n",
       "    </tr>\n",
       "    <tr>\n",
       "      <th>1</th>\n",
       "      <td>ir</td>\n",
       "      <td>GBP</td>\n",
       "      <td>2017-01-17T00:00:00Z</td>\n",
       "      <td>2019-01-17T00:00:00Z</td>\n",
       "      <td>swap_2</td>\n",
       "      <td>1400</td>\n",
       "      <td>10500</td>\n",
       "      <td>floating</td>\n",
       "      <td>floating</td>\n",
       "      <td>2017-01-10T00:00:00Z</td>\n",
       "      <td>2017-01-10T00:00:00Z</td>\n",
       "      <td>vanilla_swap</td>\n",
       "      <td>2017-01-16T00:00:00Z</td>\n",
       "      <td>2.0</td>\n",
       "      <td>1</td>\n",
       "    </tr>\n",
       "  </tbody>\n",
       "</table>\n",
       "</div>"
      ],
      "text/plain": [
       "  asset_class currency_code                  date              end_date  \\\n",
       "0          ir           USD  2017-01-17T00:00:00Z  2019-01-17T00:00:00Z   \n",
       "1          ir           GBP  2017-01-17T00:00:00Z  2019-01-17T00:00:00Z   \n",
       "\n",
       "       id  mtm_dirty  notional_amount payment_type receive_type  \\\n",
       "0  swap_1      -1500            10000        fixed     floating   \n",
       "1  swap_2       1400            10500     floating     floating   \n",
       "\n",
       "             start_date            trade_date          type  \\\n",
       "0  2017-01-10T00:00:00Z  2017-01-10T00:00:00Z  vanilla_swap   \n",
       "1  2017-01-10T00:00:00Z  2017-01-10T00:00:00Z  vanilla_swap   \n",
       "\n",
       "             value_date  maturity  sup_delta  \n",
       "0  2017-01-16T00:00:00Z      10.0          1  \n",
       "1  2017-01-16T00:00:00Z       2.0          1  "
      ]
     },
     "execution_count": 73,
     "metadata": {},
     "output_type": "execute_result"
    }
   ],
   "source": [
    "netting_set['notional_amount']"
   ]
  },
  {
   "cell_type": "code",
   "execution_count": 126,
   "metadata": {},
   "outputs": [],
   "source": [
    "x = pd.Series()"
   ]
  },
  {
   "cell_type": "code",
   "execution_count": 128,
   "metadata": {},
   "outputs": [],
   "source": [
    "arr = x.values"
   ]
  },
  {
   "cell_type": "code",
   "execution_count": 129,
   "metadata": {},
   "outputs": [
    {
     "name": "stderr",
     "output_type": "stream",
     "text": [
      "/home/joel/anaconda2/lib/python2.7/site-packages/ipykernel/__main__.py:1: FutureWarning: elementwise comparison failed; returning scalar instead, but in the future will perform elementwise comparison\n",
      "  if __name__ == '__main__':\n"
     ]
    }
   ],
   "source": [
    "arr[arr == ''] = 0"
   ]
  },
  {
   "cell_type": "code",
   "execution_count": 130,
   "metadata": {},
   "outputs": [
    {
     "data": {
      "text/plain": [
       "array([], dtype=float64)"
      ]
     },
     "execution_count": 130,
     "metadata": {},
     "output_type": "execute_result"
    }
   ],
   "source": [
    "arr"
   ]
  },
  {
   "cell_type": "code",
   "execution_count": null,
   "metadata": {
    "collapsed": true
   },
   "outputs": [],
   "source": []
  }
 ],
 "metadata": {
  "kernelspec": {
   "display_name": "Python (default)",
   "language": "python",
   "name": "python2"
  },
  "language_info": {
   "codemirror_mode": {
    "name": "ipython",
    "version": 2
   },
   "file_extension": ".py",
   "mimetype": "text/x-python",
   "name": "python",
   "nbconvert_exporter": "python",
   "pygments_lexer": "ipython2",
   "version": "2.7.13"
  }
 },
 "nbformat": 4,
 "nbformat_minor": 2
}
